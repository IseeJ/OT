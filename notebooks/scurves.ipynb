{
 "cells": [
  {
   "cell_type": "code",
   "execution_count": 1,
   "metadata": {},
   "outputs": [],
   "source": [
    "from CollectMaPSAs import *\n",
    "import pickle\n",
    "import matplotlib.pyplot as plt\n",
    "from mpa_configurations import *\n",
    "from scipy.optimize import curve_fit\n",
    "from scipy.special import erfc\n",
    "from scipy.special import erf\n",
    "from scipy.stats import chisquare\n",
    "\n",
    "from contextlib import suppress"
   ]
  },
  {
   "cell_type": "code",
   "execution_count": 2,
   "metadata": {},
   "outputs": [],
   "source": [
    "def errorf(x, *p):\n",
    "    a, mu, sigma = p\n",
    "    return 0.5*a*(1.0+erf((x-mu)/sigma))\n",
    "\n",
    "def errorfc(x, *p):\n",
    "    a, mu, sigma = p\n",
    "    return a*0.5*erfc((x-mu)/sigma)"
   ]
  },
  {
   "cell_type": "code",
   "execution_count": 3,
   "metadata": {},
   "outputs": [],
   "source": [
    "mapsa_names = [\"HPK_35494_032L\"]"
   ]
  },
  {
   "cell_type": "code",
   "execution_count": 4,
   "metadata": {},
   "outputs": [],
   "source": [
    "plt.rc('font', size=22, weight='bold')\n",
    "plt.rc('axes', titlesize=22)#, labelsize=18)\n",
    "plt.rc('xtick', labelsize=16)\n",
    "plt.rc('ytick', labelsize=16)\n",
    "plt.rc('legend', fontsize=22)\n",
    "plt.rc('figure', titlesize=22)"
   ]
  },
  {
   "cell_type": "code",
   "execution_count": 5,
   "metadata": {},
   "outputs": [
    {
     "name": "stdout",
     "output_type": "stream",
     "text": [
      "Loading MaPSA HPK_35494_032L\n"
     ]
    }
   ],
   "source": [
    "mapsas = []\n",
    "for m in mapsa_names:\n",
    "    # Read MaPSA object from file, if available\n",
    "    fname = 'pickles/'+m+'.pkl'\n",
    "    if os.path.isfile(fname):\n",
    "        print(\"Loading MaPSA \" + m)\n",
    "        mapsa = pickle.load(open(fname,'rb'))\n",
    "    else: # Create it\n",
    "        print(\"MaPSA \" + m +\" has no pickle\")\n",
    "\n",
    "    mapsas += [mapsa]"
   ]
  },
  {
   "cell_type": "code",
   "execution_count": 6,
   "metadata": {},
   "outputs": [],
   "source": [
    "def extract_scurve(row, pixel, s_type, scurve, n_pulse, nominal_DAC, start, stop, extract = 1):                                                                                                                                                       \n",
    "    th_array = np.zeros(conf.npixsnom, dtype = np.int )\n",
    "    noise_array = np.zeros(conf.npixsnom, dtype = np.float )\n",
    "    \n",
    "    nfail = 0\n",
    "    \n",
    "    for r in row:\n",
    "        for p in pixel:\n",
    "            pixelid = conf.pixelidnom(r,p)\n",
    "\n",
    "            # Noise and Spread study                                                                                                                                      \n",
    "            if extract:\n",
    "                \n",
    "                try:\n",
    "                \n",
    "                    if s_type == \"THR\":\n",
    "                        noise_peak = np.argmax(scurve[pixelid,:])\n",
    "                        start_DAC = noise_peak + np.where(scurve[pixelid,noise_peak:] <= n_pulse)[0][0]\n",
    "                        middle = noise_peak + np.argmin(np.abs(scurve[pixelid,noise_peak:]-0.5*n_pulse))\n",
    "                        par, cov, info, mesg, ier = curve_fit(errorfc, list(range(start_DAC, stop - start_DAC)), scurve[pixelid,start_DAC + 1 :(stop-start_DAC) + 1], p0= [n_pulse, middle, 2], full_output = True, method='lm')\n",
    "                        \n",
    "                    elif s_type == \"CAL\":\n",
    "                        start_DAC = start\n",
    "                        middle = np.argmin(np.abs(scurve[pixelid,:]-0.5*n_pulse))\n",
    "                        par, cov, info, mesg, ier = curve_fit(errorf, list(range(start_DAC, stop - start_DAC)), scurve[pixelid,start_DAC + 1 :(stop-start) + 1], p0= [n_pulse, middle, 2], full_output=True, method='lm')\n",
    "                \n",
    "                    th_array[pixelid] = int(round(par[1]))\n",
    "                    noise_array[pixelid] = par[2]\n",
    "                \n",
    "                except RuntimeError as e:\n",
    "                    nfail += 1\n",
    "\n",
    "                    print(noise_peak, start_DAC, middle)\n",
    "                    \n",
    "                    th_array[pixelid] = -1\n",
    "                    noise_array[pixelid] = -1\n",
    "                    plt.plot(scurve[pixelid,:])\n",
    "                    plt.show()\n",
    "              \n",
    "    print(nfail)\n",
    "    \n",
    "    if extract:\n",
    "        return th_array, noise_array"
   ]
  },
  {
   "cell_type": "code",
   "execution_count": 7,
   "metadata": {},
   "outputs": [
    {
     "name": "stdout",
     "output_type": "stream",
     "text": [
      "0\n"
     ]
    }
   ],
   "source": [
    "s = np.array(mapsa.mpa_chips[0].THRS)\n",
    "thr, noise = extract_scurve(row=conf.rowsnom, pixel=conf.colsnom, s_type = \"THR\", scurve = s, n_pulse=1000, start = 0, stop = 256, nominal_DAC = 0, extract = 1)"
   ]
  },
  {
   "cell_type": "code",
   "execution_count": 8,
   "metadata": {},
   "outputs": [
    {
     "data": {
      "text/plain": [
       "(array([1.000e+00, 0.000e+00, 4.000e+00, 7.000e+00, 2.900e+01, 1.734e+03,\n",
       "        1.110e+02, 1.000e+00, 0.000e+00, 1.000e+00]),\n",
       " array([ 52. ,  60.3,  68.6,  76.9,  85.2,  93.5, 101.8, 110.1, 118.4,\n",
       "        126.7, 135. ]),\n",
       " <BarContainer object of 10 artists>)"
      ]
     },
     "execution_count": 8,
     "metadata": {},
     "output_type": "execute_result"
    },
    {
     "data": {
      "image/png": "[encoded data removed]",
      "text/plain": [
       "<Figure size 432x288 with 1 Axes>"
      ]
     },
     "metadata": {
      "needs_background": "light"
     },
     "output_type": "display_data"
    }
   ],
   "source": [
    "plt.hist(thr)"
   ]
  },
  {
   "cell_type": "code",
   "execution_count": 9,
   "metadata": {},
   "outputs": [
    {
     "data": {
      "text/plain": [
       "(array([  1.,  16., 294., 807., 569., 144.,  36.,   9.,   8.,   4.]),\n",
       " array([2.12608761, 2.33275957, 2.53943153, 2.74610349, 2.95277545,\n",
       "        3.15944741, 3.36611937, 3.57279132, 3.77946328, 3.98613524,\n",
       "        4.1928072 ]),\n",
       " <BarContainer object of 10 artists>)"
      ]
     },
     "execution_count": 9,
     "metadata": {},
     "output_type": "execute_result"
    },
    {
     "data": {
      "image/png": "[encoded data removed]",
      "text/plain": [
       "<Figure size 432x288 with 1 Axes>"
      ]
     },
     "metadata": {
      "needs_background": "light"
     },
     "output_type": "display_data"
    }
   ],
   "source": [
    "plt.hist(noise)"
   ]
  },
  {
   "cell_type": "code",
   "execution_count": 10,
   "metadata": {},
   "outputs": [
    {
     "data": {
      "image/png": "[encoded data removed]",
      "text/plain": [
       "<Figure size 432x288 with 1 Axes>"
      ]
     },
     "metadata": {
      "needs_background": "light"
     },
     "output_type": "display_data"
    }
   ],
   "source": [
    "plt.plot(s.transpose());"
   ]
  },
  {
   "cell_type": "code",
   "execution_count": 11,
   "metadata": {},
   "outputs": [],
   "source": [
    "pixelid=12\n",
    "n_pulse=1000\n",
    "stop=256\n",
    "scurve = s\n",
    "noise_peak = np.argmax(scurve[pixelid,:])\n",
    "start_DAC = noise_peak + np.where(scurve[pixelid,noise_peak:] <= n_pulse)[0][0]\n",
    "middle = noise_peak + np.argmin(np.abs(scurve[pixelid,noise_peak:]-0.5*n_pulse))\n",
    "par, cov, info, mesg, ier = curve_fit(errorfc, list(range(start_DAC, stop - start_DAC)), scurve[pixelid,start_DAC + 1 :(stop-start_DAC) + 1], p0= [n_pulse, middle, 2], full_output = True, method='lm')\n"
   ]
  },
  {
   "cell_type": "code",
   "execution_count": null,
   "metadata": {},
   "outputs": [],
   "source": []
  },
  {
   "cell_type": "code",
   "execution_count": 12,
   "metadata": {},
   "outputs": [
    {
     "data": {
      "image/png": "[encoded data removed]",
      "text/plain": [
       "<Figure size 432x288 with 1 Axes>"
      ]
     },
     "metadata": {
      "needs_background": "light"
     },
     "output_type": "display_data"
    }
   ],
   "source": [
    "plt.plot(list(range(start_DAC+1, stop-start_DAC+1)),scurve[pixelid,start_DAC+1:stop-start_DAC+1]);\n",
    "plt.plot(list(range(start_DAC+1, stop-start_DAC+1)),errorfc(list(range(start_DAC+1, stop-start_DAC+1)),*par));"
   ]
  },
  {
   "cell_type": "code",
   "execution_count": 13,
   "metadata": {},
   "outputs": [],
   "source": [
    "observed = np.clip(scurve[pixelid,start_DAC+1:(stop-start_DAC)+1],1e-9,1000)\n",
    "fitted = np.clip(errorfc(list(range(start_DAC+1,stop-start_DAC+1)),*par),1e-9,1000)\n",
    "expected = np.sum(observed)/np.sum(fitted) * fitted"
   ]
  },
  {
   "cell_type": "code",
   "execution_count": 14,
   "metadata": {},
   "outputs": [
    {
     "name": "stdout",
     "output_type": "stream",
     "text": [
      "470.9842365848342 1.0665371547907996e-53\n"
     ]
    }
   ],
   "source": [
    "c, p = chisquare(scurve[pixelid,start_DAC+1:(stop-start_DAC)+1], expected, ddof=len(par))\n",
    "print(c,p)"
   ]
  },
  {
   "cell_type": "code",
   "execution_count": null,
   "metadata": {},
   "outputs": [],
   "source": []
  },
  {
   "cell_type": "code",
   "execution_count": 15,
   "metadata": {},
   "outputs": [
    {
     "data": {
      "text/plain": [
       "array([1.00000000e+03, 1.00000000e+03, 1.00000000e+03, 1.00000000e+03,\n",
       "       1.00000000e+03, 1.00000000e+03, 1.00000000e+03, 1.00000000e+03,\n",
       "       1.00000000e+03, 1.00000000e+03, 9.98107646e+02, 9.87939964e+02,\n",
       "       9.61403675e+02, 9.04456183e+02, 8.03960870e+02, 6.58123286e+02,\n",
       "       4.84080511e+02, 3.13271643e+02, 1.75413580e+02, 8.39148152e+01,\n",
       "       3.39748612e+01, 1.15611255e+01, 3.28947796e+00, 7.79583935e-01,\n",
       "       1.53439977e-01, 2.50252908e-02, 3.37618051e-03, 3.76252159e-04,\n",
       "       3.45987310e-05, 2.62289893e-06, 1.00000000e-06, 1.00000000e-06,\n",
       "       1.00000000e-06, 1.00000000e-06, 1.00000000e-06, 1.00000000e-06,\n",
       "       1.00000000e-06, 1.00000000e-06, 1.00000000e-06, 1.00000000e-06,\n",
       "       1.00000000e-06, 1.00000000e-06, 1.00000000e-06, 1.00000000e-06,\n",
       "       1.00000000e-06, 1.00000000e-06, 1.00000000e-06, 1.00000000e-06,\n",
       "       1.00000000e-06, 1.00000000e-06, 1.00000000e-06, 1.00000000e-06,\n",
       "       1.00000000e-06, 1.00000000e-06, 1.00000000e-06, 1.00000000e-06,\n",
       "       1.00000000e-06, 1.00000000e-06, 1.00000000e-06, 1.00000000e-06,\n",
       "       1.00000000e-06, 1.00000000e-06, 1.00000000e-06, 1.00000000e-06,\n",
       "       1.00000000e-06, 1.00000000e-06, 1.00000000e-06, 1.00000000e-06,\n",
       "       1.00000000e-06, 1.00000000e-06, 1.00000000e-06, 1.00000000e-06,\n",
       "       1.00000000e-06, 1.00000000e-06, 1.00000000e-06, 1.00000000e-06,\n",
       "       1.00000000e-06, 1.00000000e-06, 1.00000000e-06, 1.00000000e-06,\n",
       "       1.00000000e-06, 1.00000000e-06, 1.00000000e-06, 1.00000000e-06,\n",
       "       1.00000000e-06, 1.00000000e-06, 1.00000000e-06, 1.00000000e-06,\n",
       "       1.00000000e-06, 1.00000000e-06, 1.00000000e-06, 1.00000000e-06])"
      ]
     },
     "execution_count": 15,
     "metadata": {},
     "output_type": "execute_result"
    }
   ],
   "source": [
    "np.clip(errorfc(list(range(start_DAC+1, stop-start_DAC+1)),*par),1e-6,1000,)"
   ]
  },
  {
   "cell_type": "code",
   "execution_count": null,
   "metadata": {},
   "outputs": [],
   "source": []
  }
 ],
 "metadata": {
  "kernelspec": {
   "display_name": "Python 3 (ipykernel)",
   "language": "python",
   "name": "python3"
  },
  "language_info": {
   "codemirror_mode": {
    "name": "ipython",
    "version": 3
   },
   "file_extension": ".py",
   "mimetype": "text/x-python",
   "name": "python",
   "nbconvert_exporter": "python",
   "pygments_lexer": "ipython3",
   "version": "3.9.6"
  }
 },
 "nbformat": 4,
 "nbformat_minor": 2
}
