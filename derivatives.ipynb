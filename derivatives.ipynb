{
 "cells": [
  {
   "cell_type": "code",
   "execution_count": 24,
   "metadata": {},
   "outputs": [],
   "source": [
    "from CollectMaPSAs import *\n",
    "import ROOT\n",
    "import cPickle\n",
    "import matplotlib.pyplot as plt\n",
    "from scipy.special import erfc\n",
    "from scipy.special import erf"
   ]
  },
  {
   "cell_type": "code",
   "execution_count": 25,
   "metadata": {},
   "outputs": [],
   "source": [
    "mapsa_names = [\"HPK44_1\"]"
   ]
  },
  {
   "cell_type": "code",
   "execution_count": 26,
   "metadata": {},
   "outputs": [
    {
     "name": "stdout",
     "output_type": "stream",
     "text": [
      "Loading MaPSA HPK44_1\n"
     ]
    }
   ],
   "source": [
    "mapsas = []\n",
    "for m in mapsa_names:\n",
    "    # Read MaPSA object from file, if available\n",
    "    fname = 'pickles/'+m+'.pkl'\n",
    "    if os.path.isfile(fname):\n",
    "        print(\"Loading MaPSA \" + m)\n",
    "        mapsa = cPickle.load(open(fname,'rb'))\n",
    "    else: # Create it\n",
    "        print(\"MaPSA \" + m +\" has no pickle\")\n",
    "\n",
    "    mapsas += [mapsa]"
   ]
  },
  {
   "cell_type": "code",
   "execution_count": 27,
   "metadata": {},
   "outputs": [],
   "source": [
    "whichcurve = \"CAL_posttrim\"\n",
    "\n",
    "chip = mapsas[0].mpa_chips[0]\n",
    "        \n",
    "if whichcurve == \"CAL_pretrim\":\n",
    "    curves_all = chip.CALS_pretrim.transpose()[0:256]\n",
    "    rms_fit_all = chip.pixels[\"CAL_RMS_pretrim\"]\n",
    "    mean_fit_all = chip.pixels[\"CAL_Mean_pretrim\"]\n",
    "elif whichcurve == \"CAL_posttrim\":\n",
    "    curves_all = chip.CALS.transpose()[0:256]\n",
    "    rms_fit_all = chip.pixels[\"CAL_RMS\"]\n",
    "    mean_fit_all = chip.pixels[\"CAL_Mean\"]\n",
    "elif whichcurve == \"Bump\":\n",
    "    curves_all = chip.BumpS.transpose()[0:256]\n",
    "    rms_fit_all = chip.pixels[\"Bump_RMS\"]\n",
    "    mean_fit_all = chip.pixels[\"Bump_Mean\"]"
   ]
  },
  {
   "cell_type": "code",
   "execution_count": 28,
   "metadata": {},
   "outputs": [],
   "source": [
    "def derivative_root(curve):\n",
    "    h = ROOT.TH1D('h','h',256,0,256)\n",
    "    y = np.diff(curve) \n",
    "    for i in range(0,255):\n",
    "        h.SetBinContent(i+1,y[i])\n",
    "    return [h.GetMean(),h.GetRMS()]"
   ]
  },
  {
   "cell_type": "code",
   "execution_count": 29,
   "metadata": {},
   "outputs": [],
   "source": [
    "def derivative(curve):\n",
    "    y = np.diff(curve) \n",
    "    tot = 0.\n",
    "    for i,x in enumerate(y):\n",
    "        tot += (i+0.5)*x\n",
    "    mean = tot/sum(y) \n",
    "    \n",
    "    sigma2 = 0.\n",
    "    for i,x in enumerate(y):\n",
    "        sigma2 += x*(i+0.5-mean)**2\n",
    "        \n",
    "    sigma = np.sqrt(sigma2/sum(y))\n",
    "    return [mean, sigma]"
   ]
  },
  {
   "cell_type": "code",
   "execution_count": 30,
   "metadata": {},
   "outputs": [],
   "source": [
    "curves = curves_all\n",
    "mean_fit = mean_fit_all\n",
    "rms_fit = rms_fit_all"
   ]
  },
  {
   "cell_type": "code",
   "execution_count": null,
   "metadata": {},
   "outputs": [
    {
     "name": "stderr",
     "output_type": "stream",
     "text": [
      "/cvmfs/sft.cern.ch/lcg/views/LCG_96/x86_64-centos7-gcc8-opt/lib/python2.7/site-packages/ipykernel_launcher.py:12: RuntimeWarning: invalid value encountered in sqrt\n",
      "  if sys.path[0] == '':\n"
     ]
    }
   ],
   "source": [
    "mean_der = []\n",
    "rms_der = []\n",
    "\n",
    "for i in range(0,curves.shape[1]):\n",
    "    out = derivative(curves[i])\n",
    "    mean_der += [out[0]]\n",
    "    rms_der += [out[1]]\n",
    "    \n",
    "    if i<10:\n",
    "        fig, ax = plt.subplots()\n",
    "        plt.scatter(np.linspace(0,255,256),curves[i],label='data')\n",
    "\n",
    "        curve_fit = [500*(1+erf((x-mean_fit[i])/rms_fit[i])) for x in np.linspace(0,255,512)]\n",
    "        # NB fit is offset by 1 in DAC\n",
    "        plt.plot(np.linspace(1,256,512),curve_fit,label='fit')\n",
    "        \n",
    "        curve_der = [500*(1+erf((x-out[0])/(np.sqrt(2)*out[1]))) for x in np.linspace(0,255,512)]\n",
    "        plt.plot(np.linspace(0,255,512),curve_der,label='derivative')\n",
    "        \n",
    "        ax.set_xlim(0,2*mean_fit[i])\n",
    "        plt.legend(loc='upper left',prop={'size': 12});"
   ]
  },
  {
   "cell_type": "code",
   "execution_count": null,
   "metadata": {},
   "outputs": [],
   "source": [
    "plt.hist(rms_fit/np.sqrt(2),histtype='step',bins=np.linspace(0,10,100));\n",
    "plt.hist(rms_der,histtype='step',bins=np.linspace(0,10,100));\n",
    "plt.legend(['fit','derivative'],loc='upper right',prop={'size': 12});"
   ]
  },
  {
   "cell_type": "code",
   "execution_count": null,
   "metadata": {},
   "outputs": [],
   "source": [
    "plt.hist(mean_fit,histtype='step',bins=np.linspace(0,25,100));\n",
    "plt.hist(mean_der,histtype='step',bins=np.linspace(0,25,100));\n",
    "plt.legend(['fit','derivative'],loc='upper right',prop={'size': 12})"
   ]
  },
  {
   "cell_type": "code",
   "execution_count": null,
   "metadata": {},
   "outputs": [],
   "source": [
    "plt.hist(rms_der-rms_fit,bins=np.linspace(-5,5,100),histtype='step');"
   ]
  },
  {
   "cell_type": "code",
   "execution_count": null,
   "metadata": {},
   "outputs": [],
   "source": [
    "plt.hist(mean_der-mean_fit,bins=np.linspace(-5,5,100),histtype='step');"
   ]
  },
  {
   "cell_type": "code",
   "execution_count": null,
   "metadata": {},
   "outputs": [],
   "source": []
  }
 ],
 "metadata": {
  "kernelspec": {
   "display_name": "Python 2",
   "language": "python",
   "name": "python2"
  },
  "language_info": {
   "codemirror_mode": {
    "name": "ipython",
    "version": 2
   },
   "file_extension": ".py",
   "mimetype": "text/x-python",
   "name": "python",
   "nbconvert_exporter": "python",
   "pygments_lexer": "ipython2",
   "version": "2.7.16"
  }
 },
 "nbformat": 4,
 "nbformat_minor": 2
}
